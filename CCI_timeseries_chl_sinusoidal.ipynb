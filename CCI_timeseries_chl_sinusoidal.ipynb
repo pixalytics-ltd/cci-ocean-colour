{
 "cells": [
  {
   "cell_type": "code",
   "execution_count": 4,
   "metadata": {},
   "outputs": [],
   "source": [
    "import glob\n",
    "import sys\n",
    "import os\n",
    "import numpy as np\n",
    "import xarray as xr\n",
    "import datetime as dt\n",
    "import gc\n",
    "from tqdm import notebook\n",
    "import datetime\n",
    "import matplotlib\n",
    "import tkinter as tk\n",
    "matplotlib.use('TkAgg')\n",
    "import matplotlib.pyplot as plt\n",
    "import netCDF4 as nc # Ocean Colour CCI file format"
   ]
  },
  {
   "cell_type": "code",
   "execution_count": 2,
   "metadata": {},
   "outputs": [
    {
     "name": "stdout",
     "output_type": "stream",
     "text": [
      "2019\n",
      "Monthly files start with https://www.oceancolour.org//thredds/dodsC/cci/v5.0-release/sinusoidal/monthly/chlor_a/2019/ESACCI-OC-L3S-CHLOR_A-MERGED-1M_MONTHLY_4km_SIN_PML_OCx-201901-fv5.0.nc\n"
     ]
    }
   ],
   "source": [
    "THREDDS_string='https://www.oceancolour.org//thredds/dodsC/cci/v5.0-release/sinusoidal/monthly/chlor_a'\n",
    "monthly_files=[]\n",
    "# Maximum range would be 1997 to 2020 - beware! this will take a while to run\n",
    "for year in np.arange(2019,2020): \n",
    "    print(year)\n",
    "    for month in np.arange(1, 13):\n",
    "        filestring=THREDDS_string+'/%s/ESACCI-OC-L3S-CHLOR_A-MERGED-1M_MONTHLY_4km_SIN_PML_OCx-%s%02d-fv5.0.nc' %(year, year,month)\n",
    "        monthly_files.append(filestring)\n",
    "print(\"Monthly files start with {}\".format(monthly_files[0]))"
   ]
  },
  {
   "cell_type": "code",
   "execution_count": 3,
   "metadata": {},
   "outputs": [
    {
     "data": {
      "application/vnd.jupyter.widget-view+json": {
       "model_id": "366e47acf5d34eb5b67470d75e82aa29",
       "version_major": 2,
       "version_minor": 0
      },
      "text/plain": [
       "  0%|          | 0/12 [00:00<?, ?it/s]"
      ]
     },
     "metadata": {},
     "output_type": "display_data"
    }
   ],
   "source": [
    "Global_mean_chl=[]\n",
    "dates=[]\n",
    "for input_file in notebook.tqdm(monthly_files):\n",
    "    try:\n",
    "        data=xr.open_dataset(input_file)\n",
    "        GMC=np.nanmean(np.log10(data['chlor_a']))\n",
    "        dates.append(data.time.values)\n",
    "        Global_mean_chl.append(pow(10.,GMC))\n",
    "    except OSError as e:\n",
    "        print(e)\n"
   ]
  },
  {
   "cell_type": "code",
   "execution_count": null,
   "metadata": {},
   "outputs": [],
   "source": [
    "# Plot data\n",
    "plt.plot(dates, Global_mean_chl)"
   ]
  },
  {
   "cell_type": "code",
   "execution_count": null,
   "metadata": {},
   "outputs": [],
   "source": [
    "# Save array\n",
    "dir = os.path.abspath('')  # Location of jupyter notebook\n",
    "outsav = os.path.join(dir, \"OC-CCI-chlor_a-time-series\")\n",
    "numpoints = len(dates)\n",
    "print(numpoints, \"date points\")\n",
    "print(\"Data: \",dates[0],Global_mean_chl[0])\n",
    "# Save as numpy array - option to restore later\n",
    "np.savez(outsav, dates, Global_mean_chl)"
   ]
  },
  {
   "cell_type": "code",
   "execution_count": null,
   "metadata": {
    "scrolled": true
   },
   "outputs": [],
   "source": [
    "# Save Chl data as CSV file\n",
    "outfile = os.path.join(dir, \"OC-CCI-chlor_a-time-series.csv\")\n",
    "if os.path.exists(outfile):\n",
    "    os.remove(outfile)\n",
    "ab1 = np.array(dates)\n",
    "ab2 = np.array(Global_mean_chl)\n",
    "ab = np.zeros(ab1.size, dtype=[('Date', 'U60'), ('Mean Chl', float)])\n",
    "print(ab.shape, ab1.size, ab2.size)\n",
    "ab['Date'] = np.transpose(ab1)\n",
    "ab['Mean Chl'] = np.transpose(ab2)\n",
    "np.savetxt(outfile, ab, newline='\\n', fmt=\"%10s, %10.3f\")"
   ]
  },
  {
   "cell_type": "code",
   "execution_count": null,
   "metadata": {},
   "outputs": [],
   "source": []
  }
 ],
 "metadata": {
  "kernelspec": {
   "display_name": "Python 3-8 (ocolour)",
   "language": "python",
   "name": "ocolour"
  },
  "language_info": {
   "codemirror_mode": {
    "name": "ipython",
    "version": 3
   },
   "file_extension": ".py",
   "mimetype": "text/x-python",
   "name": "python",
   "nbconvert_exporter": "python",
   "pygments_lexer": "ipython3",
   "version": "3.8.10"
  }
 },
 "nbformat": 4,
 "nbformat_minor": 2
}
