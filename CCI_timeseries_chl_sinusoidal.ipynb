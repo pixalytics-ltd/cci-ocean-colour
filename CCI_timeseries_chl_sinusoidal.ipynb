{
 "cells": [
  {
   "cell_type": "code",
   "execution_count": 2,
   "metadata": {},
   "outputs": [],
   "source": [
    "import glob\n",
    "import sys\n",
    "import os\n",
    "import numpy as np\n",
    "import xarray as xr\n",
    "import datetime as dt\n",
    "import gc\n",
    "from tqdm import tqdm_notebook\n",
    "import datetime\n",
    "import matplotlib\n",
    "import tkinter as tk\n",
    "matplotlib.use('TkAgg')\n",
    "import matplotlib.pyplot as plt\n",
    "import netCDF4 as nc"
   ]
  },
  {
   "cell_type": "code",
   "execution_count": 3,
   "metadata": {},
   "outputs": [
    {
     "name": "stdout",
     "output_type": "stream",
     "text": [
      "1997\n",
      "1998\n",
      "1999\n",
      "2000\n",
      "2001\n",
      "2002\n",
      "2003\n",
      "2004\n",
      "2005\n",
      "2006\n",
      "2007\n",
      "2008\n",
      "2009\n",
      "2010\n",
      "2011\n",
      "2012\n",
      "2013\n",
      "2014\n",
      "2015\n",
      "2016\n",
      "2017\n",
      "2018\n",
      "2019\n"
     ]
    }
   ],
   "source": [
    "THREDDS_string='https://www.oceancolour.org//thredds/dodsC/cci/v4.2-release/sinusoidal/monthly/chlor_a'\n",
    "monthly_files=[]\n",
    "for year in np.arange(1997,2020):\n",
    "    print(year)\n",
    "    for month in np.arange(1, 13):\n",
    "        filestring=THREDDS_string+'/%s/ESACCI-OC-L3S-CHLOR_A-MERGED-1M_MONTHLY_4km_SIN_PML_OCx-%s%02d-fv4.2.nc' %(year, year,month)\n",
    "        monthly_files.append(filestring)\n",
    "    "
   ]
  },
  {
   "cell_type": "code",
   "execution_count": null,
   "metadata": {},
   "outputs": [
    {
     "name": "stderr",
     "output_type": "stream",
     "text": [
      "C:\\Users\\sam2\\AppData\\Roaming\\Python\\Python37\\site-packages\\ipykernel_launcher.py:3: TqdmDeprecationWarning: This function will be removed in tqdm==5.0.0\n",
      "Please use `tqdm.notebook.tqdm` instead of `tqdm.tqdm_notebook`\n",
      "  This is separate from the ipykernel package so we can avoid doing imports until\n"
     ]
    },
    {
     "data": {
      "application/vnd.jupyter.widget-view+json": {
       "model_id": "8bf43fa58d334f629d25a79b2ea7d441",
       "version_major": 2,
       "version_minor": 0
      },
      "text/plain": [
       "HBox(children=(FloatProgress(value=0.0, max=276.0), HTML(value='')))"
      ]
     },
     "metadata": {},
     "output_type": "display_data"
    },
    {
     "name": "stdout",
     "output_type": "stream",
     "text": [
      "[Errno -90] NetCDF: file not found: b'https://www.oceancolour.org//thredds/dodsC/cci/v4.2-release/sinusoidal/monthly/chlor_a/1997/ESACCI-OC-L3S-CHLOR_A-MERGED-1M_MONTHLY_4km_SIN_PML_OCx-199701-fv4.2.nc'\n",
      "[Errno -90] NetCDF: file not found: b'https://www.oceancolour.org//thredds/dodsC/cci/v4.2-release/sinusoidal/monthly/chlor_a/1997/ESACCI-OC-L3S-CHLOR_A-MERGED-1M_MONTHLY_4km_SIN_PML_OCx-199702-fv4.2.nc'\n",
      "[Errno -90] NetCDF: file not found: b'https://www.oceancolour.org//thredds/dodsC/cci/v4.2-release/sinusoidal/monthly/chlor_a/1997/ESACCI-OC-L3S-CHLOR_A-MERGED-1M_MONTHLY_4km_SIN_PML_OCx-199703-fv4.2.nc'\n",
      "[Errno -90] NetCDF: file not found: b'https://www.oceancolour.org//thredds/dodsC/cci/v4.2-release/sinusoidal/monthly/chlor_a/1997/ESACCI-OC-L3S-CHLOR_A-MERGED-1M_MONTHLY_4km_SIN_PML_OCx-199704-fv4.2.nc'\n",
      "[Errno -90] NetCDF: file not found: b'https://www.oceancolour.org//thredds/dodsC/cci/v4.2-release/sinusoidal/monthly/chlor_a/1997/ESACCI-OC-L3S-CHLOR_A-MERGED-1M_MONTHLY_4km_SIN_PML_OCx-199705-fv4.2.nc'"
     ]
    }
   ],
   "source": [
    "Global_mean_chl=[]\n",
    "dates=[]\n",
    "for input_file in tqdm_notebook(monthly_files):\n",
    "    try:\n",
    "        data=xr.open_dataset(input_file)\n",
    "        GMC=np.nanmean(np.log10(data['chlor_a']))\n",
    "        dates.append(data.time.values)\n",
    "        Global_mean_chl.append(pow(10.,GMC))\n",
    "    except OSError as e:\n",
    "        print(e)\n"
   ]
  },
  {
   "cell_type": "code",
   "execution_count": null,
   "metadata": {},
   "outputs": [],
   "source": [
    "# Save array\n",
    "outsav = \"C:\\DDrive\\scratch\\OC-CCI-chlor_a-time-series.sav\"\n",
    "ny = len(dates)\n",
    "array = np.zeros((2,len))\n",
    "array[0,*] = dates[*]\n",
    "array[1,*] = Global_mean_chl[*]\n",
    "np.save(outfile, array)"
   ]
  },
  {
   "cell_type": "code",
   "execution_count": null,
   "metadata": {},
   "outputs": [],
   "source": [
    "# Save Chl file\n",
    "outfile = \"C:\\DDrive\\scratch\\OC-CCI-chlor_a-time-series.csv\"\n",
    "np.savetxt(outfile, array, delimiter=',')"
   ]
  },
  {
   "cell_type": "code",
   "execution_count": 6,
   "metadata": {},
   "outputs": [
    {
     "name": "stdout",
     "output_type": "stream",
     "text": [
      "https://www.oceancolour.org//thredds/dodsC/cci/v4.2-release/sinusoidal/monthly/chlor_a/1999/ESACCI-OC-L3S-CHLOR_A-MERGED-1M_MONTHLY_4km_SIN_PML_OCx-199907-fv4.2.nc\n"
     ]
    }
   ],
   "source": [
    "# Plot data\n",
    "plt.plot(dates, Global_mean_chl)"
   ]
  }
 ],
 "metadata": {
  "kernelspec": {
   "display_name": "Python 3",
   "language": "python",
   "name": "python3"
  },
  "language_info": {
   "codemirror_mode": {
    "name": "ipython",
    "version": 3
   },
   "file_extension": ".py",
   "mimetype": "text/x-python",
   "name": "python",
   "nbconvert_exporter": "python",
   "pygments_lexer": "ipython3",
   "version": "3.7.6"
  }
 },
 "nbformat": 4,
 "nbformat_minor": 2
}
